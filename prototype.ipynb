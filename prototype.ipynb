{
 "cells": [
  {
   "cell_type": "code",
   "execution_count": 3,
   "metadata": {},
   "outputs": [],
   "source": [
    "import re\n",
    "from AdvancedCalculator.utils import is_float"
   ]
  },
  {
   "cell_type": "code",
   "execution_count": 4,
   "metadata": {},
   "outputs": [],
   "source": [
    "def is_last_num_or_bracket(text: str) ->bool:\n",
    "    result = re.search(\"[0-9\\)]\", text[-1])\n",
    "    if result is None:\n",
    "        return False\n",
    "    else:\n",
    "        return True \n",
    "def are_parentheses_matched(text: str) -> bool:\n",
    "    result = 0\n",
    "    for element in text:\n",
    "        if element == \"(\":\n",
    "            result += 1\n",
    "        elif element == \")\":\n",
    "            result -= 1\n",
    "        if(result < 0):\n",
    "            return False\n",
    "    if result != 0:\n",
    "        return False\n",
    "    return True\n",
    "def is_only_floats(list_of_str: list) -> bool:\n",
    "    for element in list_of_str:\n",
    "        if not element:\n",
    "            continue\n",
    "        elif is_float(element):\n",
    "            continue\n",
    "        else:\n",
    "            return False\n",
    "    return True\n",
    "def is_enable_chars(text: str) -> bool:\n",
    "    pattern = r'[\\+\\-\\*/\\(\\)]'\n",
    "    results = re.split(pattern, text)\n",
    "    return is_only_floats(results)\n",
    "def is_formula(text: str) -> bool:\n",
    "    return is_last_num_or_bracket(text) and are_parentheses_matched(text) and is_enable_chars(text)"
   ]
  },
  {
   "cell_type": "code",
   "execution_count": 5,
   "metadata": {},
   "outputs": [
    {
     "data": {
      "text/plain": [
       "False"
      ]
     },
     "execution_count": 5,
     "metadata": {},
     "output_type": "execute_result"
    }
   ],
   "source": [
    "testText = \"4(3+2/3\"\n",
    "is_formula(testText)"
   ]
  },
  {
   "cell_type": "code",
   "execution_count": 6,
   "metadata": {},
   "outputs": [
    {
     "ename": "NameError",
     "evalue": "name 'result' is not defined",
     "output_type": "error",
     "traceback": [
      "\u001b[0;31m---------------------------------------------------------------------------\u001b[0m",
      "\u001b[0;31mNameError\u001b[0m                                 Traceback (most recent call last)",
      "Cell \u001b[0;32mIn[6], line 1\u001b[0m\n\u001b[0;32m----> 1\u001b[0m \u001b[43mresult\u001b[49m\n",
      "\u001b[0;31mNameError\u001b[0m: name 'result' is not defined"
     ]
    }
   ],
   "source": [
    "result"
   ]
  },
  {
   "cell_type": "code",
   "execution_count": 8,
   "metadata": {},
   "outputs": [
    {
     "data": {
      "text/plain": [
       "['3 ', ' 2', '10 ', '1', '30', '']"
      ]
     },
     "execution_count": 8,
     "metadata": {},
     "output_type": "execute_result"
    }
   ],
   "source": [
    "results"
   ]
  },
  {
   "cell_type": "code",
   "execution_count": 9,
   "metadata": {},
   "outputs": [],
   "source": [
    "from sympy import sympify\n"
   ]
  },
  {
   "cell_type": "code",
   "execution_count": 81,
   "metadata": {},
   "outputs": [],
   "source": [
    "from AdvancedCalculator.basicOperations import add, sub, mul, div\n",
    "from AdvancedCalculator.utils import try_get_float_value\n",
    "\n",
    "def get_id_of_open_bracket(list_of_math_sign :list) -> int:\n",
    "    for index, element in enumerate(list_of_math_sign):\n",
    "        if element == \"(\":\n",
    "            return index\n",
    "    return None\n",
    "def get_id_of_close_bracket(list_of_math_sign: list) -> int:\n",
    "    count = 0\n",
    "    for index, element in enumerate(list_of_math_sign):\n",
    "        if element == \"(\": \n",
    "            count += 1\n",
    "        elif element == \")\":\n",
    "            count -= 1\n",
    "        if count == 0:\n",
    "            return index \n",
    "    return None\n",
    "\n",
    "def try_get_list_of_brackets(list_of_math_elements: list) -> list:\n",
    "    list_of_brackets = []\n",
    "\n",
    "    begin_id = get_id_of_open_bracket(list_of_math_elements)\n",
    "    if begin_id is None:\n",
    "        return list_of_brackets\n",
    "    end_id = begin_id + 1 + get_id_of_close_bracket(list_of_math_elements[begin_id:])\n",
    "    if end_id is None:\n",
    "        return list_of_brackets\n",
    "    \n",
    "    result = (begin_id, end_id)\n",
    "    list_of_brackets.append(result)\n",
    "    results = try_get_list_of_brackets(list_of_math_elements[end_id:])\n",
    "    for result in results:\n",
    "        result = (result[0]+ end_id, result[1] + end_id)\n",
    "        list_of_brackets.append(result)\n",
    "    return list_of_brackets\n",
    "\n",
    "def calculate_formula(list_of_math_elements: list) -> list:\n",
    "\n",
    "    list_of_brackets = try_get_list_of_brackets(list_of_math_elements)\n",
    "\n",
    "\n",
    "    results = []\n",
    "    for brackets in list_of_brackets:\n",
    "        result = calculate_formula(list_of_math_elements[brackets[0]+1:brackets[1]-1])\n",
    "        results = results + result\n",
    "        \n",
    "    for result, brackets in zip(reversed(results), reversed(list_of_brackets)):\n",
    "        del list_of_math_elements[brackets[0]:brackets[1]]\n",
    "        list_of_math_elements.insert(brackets[0], \"*\")\n",
    "        list_of_math_elements.insert(brackets[0]+1, result)\n",
    "        \n",
    "    index = 0\n",
    "    while index < len(list_of_math_elements):\n",
    "        if list_of_math_elements[index] == \"*\":\n",
    "            value1 = float(list_of_math_elements[index-1])\n",
    "            value2 = float(list_of_math_elements[index+1])\n",
    "            result = mul(value1, value2)\n",
    "            list_of_math_elements.pop(index -1)\n",
    "            list_of_math_elements.pop(index -1)\n",
    "            list_of_math_elements.pop(index -1)\n",
    "            list_of_math_elements.insert(index - 1, str(result))\n",
    "        elif list_of_math_elements[index] == \"/\":        \n",
    "            value1 = float(list_of_math_elements[index-1])\n",
    "            value2 = float(list_of_math_elements[index+1])\n",
    "            result = div(value1, value2)\n",
    "            list_of_math_elements.pop(index -1)\n",
    "            list_of_math_elements.pop(index -1)\n",
    "            list_of_math_elements.pop(index -1)\n",
    "            list_of_math_elements.insert(index - 1, str(result))\n",
    "        else:\n",
    "            index +=1   \n",
    "\n",
    "        \n",
    "    index = 0\n",
    "    while index < len(list_of_math_elements):\n",
    "        if list_of_math_elements[index] == \"+\":\n",
    "            value1 = float(list_of_math_elements[index-1])\n",
    "            value2 = float(list_of_math_elements[index+1])\n",
    "            result = add(value1, value2)\n",
    "            list_of_math_elements.pop(index -1)\n",
    "            list_of_math_elements.pop(index -1)\n",
    "            list_of_math_elements.pop(index -1)\n",
    "            list_of_math_elements.insert(index - 1, str(result))\n",
    "        elif list_of_math_elements[index] == \"-\":        \n",
    "            value1 = float(list_of_math_elements[index-1])\n",
    "            value2 = float(list_of_math_elements[index+1])\n",
    "            result = sub(value1, value2)\n",
    "            list_of_math_elements.pop(index -1)\n",
    "            list_of_math_elements.pop(index -1)\n",
    "            list_of_math_elements.pop(index -1)\n",
    "            list_of_math_elements.insert(index - 1, str(result))\n",
    "        else:\n",
    "            index +=1  \n",
    "\n",
    "    return list_of_math_elements\n",
    "\n",
    "def convert_to_list(text_formula: str) -> list:\n",
    "    pattern = r'\\d+|[\\+\\-\\*/\\(\\)0-9]'\n",
    "    list_of_math_elements = re.findall(pattern, testText)\n",
    "    return list_of_math_elements"
   ]
  },
  {
   "cell_type": "code",
   "execution_count": 82,
   "metadata": {},
   "outputs": [
    {
     "name": "stdout",
     "output_type": "stream",
     "text": [
      "['-47.0']\n"
     ]
    }
   ],
   "source": [
    "testText = \"3+2(10 -1* 30) + 1(2 - 3*4)\" # -37\n",
    "list_of_math_elements = convert_to_list(testText)\n",
    "result = calculate_formula(list_of_math_elements)\n",
    "print(result)"
   ]
  },
  {
   "cell_type": "code",
   "execution_count": null,
   "metadata": {},
   "outputs": [],
   "source": []
  }
 ],
 "metadata": {
  "kernelspec": {
   "display_name": "AI",
   "language": "python",
   "name": "python3"
  },
  "language_info": {
   "codemirror_mode": {
    "name": "ipython",
    "version": 3
   },
   "file_extension": ".py",
   "mimetype": "text/x-python",
   "name": "python",
   "nbconvert_exporter": "python",
   "pygments_lexer": "ipython3",
   "version": "3.10.13"
  }
 },
 "nbformat": 4,
 "nbformat_minor": 2
}
